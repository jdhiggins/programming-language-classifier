{
 "cells": [
  {
   "cell_type": "code",
   "execution_count": 1,
   "metadata": {
    "collapsed": true
   },
   "outputs": [],
   "source": [
    "import web_scraper\n",
    "import pandas as pd\n",
    "import matplotlib.pyplot as plt"
   ]
  },
  {
   "cell_type": "code",
   "execution_count": 2,
   "metadata": {
    "collapsed": true
   },
   "outputs": [],
   "source": [
    "%matplotlib inline"
   ]
  },
  {
   "cell_type": "markdown",
   "metadata": {},
   "source": [
    "#Import Small Data Set\n",
    "Each language has at least 20 examples"
   ]
  },
  {
   "cell_type": "code",
   "execution_count": 13,
   "metadata": {
    "collapsed": false
   },
   "outputs": [],
   "source": [
    "df = pd.read_pickle('scraper_50_x_20.pkl')"
   ]
  },
  {
   "cell_type": "code",
   "execution_count": 14,
   "metadata": {
    "collapsed": false
   },
   "outputs": [
    {
     "data": {
      "text/html": [
       "<div style=\"max-height:1000px;max-width:1500px;overflow:auto;\">\n",
       "<table border=\"1\" class=\"dataframe\">\n",
       "  <thead>\n",
       "    <tr style=\"text-align: right;\">\n",
       "      <th></th>\n",
       "      <th>0</th>\n",
       "      <th>1</th>\n",
       "    </tr>\n",
       "  </thead>\n",
       "  <tbody>\n",
       "    <tr>\n",
       "      <th>0</th>\n",
       "      <td>ada</td>\n",
       "      <td>with Ada.Command_Line;with Ada.Text_IO;with GN...</td>\n",
       "    </tr>\n",
       "    <tr>\n",
       "      <th>1</th>\n",
       "      <td>autohotkey</td>\n",
       "      <td>#NoEnv#SingleInstance, ForceSetBatchLines, -1#...</td>\n",
       "    </tr>\n",
       "    <tr>\n",
       "      <th>2</th>\n",
       "      <td>algol68</td>\n",
       "      <td>#!/usr/local/bin/a68g --script # INT base := 1...</td>\n",
       "    </tr>\n",
       "    <tr>\n",
       "      <th>8</th>\n",
       "      <td>c</td>\n",
       "      <td>#include &lt;stdio.h&gt;#include &lt;stdlib.h&gt;#include ...</td>\n",
       "    </tr>\n",
       "    <tr>\n",
       "      <th>9</th>\n",
       "      <td>csharp</td>\n",
       "      <td>using System;using System.Numerics; namespace ...</td>\n",
       "    </tr>\n",
       "  </tbody>\n",
       "</table>\n",
       "</div>"
      ],
      "text/plain": [
       "            0                                                  1\n",
       "0         ada  with Ada.Command_Line;with Ada.Text_IO;with GN...\n",
       "1  autohotkey  #NoEnv#SingleInstance, ForceSetBatchLines, -1#...\n",
       "2     algol68  #!/usr/local/bin/a68g --script # INT base := 1...\n",
       "8           c  #include <stdio.h>#include <stdlib.h>#include ...\n",
       "9      csharp  using System;using System.Numerics; namespace ..."
      ]
     },
     "execution_count": 14,
     "metadata": {},
     "output_type": "execute_result"
    }
   ],
   "source": [
    "df.head()"
   ]
  },
  {
   "cell_type": "markdown",
   "metadata": {},
   "source": [
    "Test Small Data Set with Bayes"
   ]
  },
  {
   "cell_type": "code",
   "execution_count": 15,
   "metadata": {
    "collapsed": false
   },
   "outputs": [
    {
     "data": {
      "text/plain": [
       "0.56262833675564683"
      ]
     },
     "execution_count": 15,
     "metadata": {},
     "output_type": "execute_result"
    }
   ],
   "source": [
    "web_scraper.split_fit_score(df)"
   ]
  },
  {
   "cell_type": "markdown",
   "metadata": {},
   "source": [
    "Test Smaller Data Set with Random Forest"
   ]
  },
  {
   "cell_type": "code",
   "execution_count": 16,
   "metadata": {
    "collapsed": false
   },
   "outputs": [
    {
     "data": {
      "text/plain": [
       "0.64065708418891165"
      ]
     },
     "execution_count": 16,
     "metadata": {},
     "output_type": "execute_result"
    }
   ],
   "source": [
    "web_scraper.split_fit_score(df, \"Forest\")"
   ]
  },
  {
   "cell_type": "markdown",
   "metadata": {},
   "source": [
    "Test Smaller Data Set with KNearestNeighborsClassifier at 5"
   ]
  },
  {
   "cell_type": "code",
   "execution_count": 17,
   "metadata": {
    "collapsed": false
   },
   "outputs": [
    {
     "data": {
      "text/plain": [
       "0.32238193018480493"
      ]
     },
     "execution_count": 17,
     "metadata": {},
     "output_type": "execute_result"
    }
   ],
   "source": [
    "web_scraper.split_fit_score(df, \"neighbors\")"
   ]
  },
  {
   "cell_type": "markdown",
   "metadata": {},
   "source": [
    "#Lets Try with a Larger Data Set\n",
    "This set has data from 300 possible programming tasks.  To be included, a language  \n",
    "needs to have 125 examples."
   ]
  },
  {
   "cell_type": "code",
   "execution_count": 8,
   "metadata": {
    "collapsed": true
   },
   "outputs": [],
   "source": [
    "df = pd.read_pickle('scraper_300_x_125.pkl')"
   ]
  },
  {
   "cell_type": "code",
   "execution_count": 9,
   "metadata": {
    "collapsed": false
   },
   "outputs": [],
   "source": [
    "classification_report = web_scraper.split_fit_score(df, \"Forest\", True)"
   ]
  },
  {
   "cell_type": "code",
   "execution_count": 11,
   "metadata": {
    "collapsed": true
   },
   "outputs": [],
   "source": [
    "score = web_scraper.split_fit_score(df, \"Forest\")"
   ]
  },
  {
   "cell_type": "code",
   "execution_count": 12,
   "metadata": {
    "collapsed": false
   },
   "outputs": [
    {
     "data": {
      "text/plain": [
       "0.70332850940665703"
      ]
     },
     "execution_count": 12,
     "metadata": {},
     "output_type": "execute_result"
    }
   ],
   "source": [
    "score"
   ]
  },
  {
   "cell_type": "markdown",
   "metadata": {},
   "source": [
    "This does pretty well even without making any special regex expressions to make vectors."
   ]
  },
  {
   "cell_type": "code",
   "execution_count": 10,
   "metadata": {
    "collapsed": false
   },
   "outputs": [
    {
     "name": "stdout",
     "output_type": "stream",
     "text": [
      "             precision    recall  f1-score   support\n",
      "\n",
      "        ada       0.91      0.84      0.87       125\n",
      "    algol68       0.78      0.90      0.84        31\n",
      " autohotkey       0.86      0.89      0.88        57\n",
      "        awk       0.83      0.58      0.68        50\n",
      "       bash       0.69      0.57      0.63        54\n",
      "          c       0.79      0.72      0.75       117\n",
      "    clojure       0.21      0.47      0.29        19\n",
      "        cpp       0.90      0.92      0.91        75\n",
      "     csharp       0.83      0.76      0.79        66\n",
      "          d       0.94      0.92      0.93        91\n",
      "     delphi       0.69      0.54      0.60        41\n",
      "          e       0.29      0.43      0.34        23\n",
      "     erlang       0.78      0.91      0.84        47\n",
      "    fortran       0.81      0.78      0.79        54\n",
      "     fsharp       0.56      0.55      0.55        33\n",
      "         go       0.93      0.82      0.87        92\n",
      "     groovy       0.80      0.57      0.67        79\n",
      "    haskell       0.82      0.81      0.82        81\n",
      "       icon       0.76      0.80      0.78        40\n",
      "          j       0.81      0.60      0.69       226\n",
      "       java       0.76      0.84      0.80        50\n",
      " javascript       0.63      0.55      0.59        56\n",
      "       lisp       0.71      0.61      0.66       165\n",
      "        lua       0.56      0.76      0.64        25\n",
      "     matlab       0.43      0.57      0.49        35\n",
      "      ocaml       0.80      0.68      0.74        82\n",
      "     parigp       0.40      0.49      0.44        41\n",
      "     pascal       0.49      0.74      0.59        27\n",
      "       perl       0.73      0.62      0.67       120\n",
      "      perl6       0.63      0.73      0.67        78\n",
      "        php       0.31      0.73      0.43        22\n",
      "     prolog       0.39      0.70      0.50        27\n",
      "  purebasic       0.80      0.87      0.83        52\n",
      "     python       0.74      0.71      0.73       129\n",
      "       rexx       0.90      0.86      0.88       111\n",
      "       ruby       0.61      0.75      0.68       114\n",
      "      scala       0.73      0.74      0.74        62\n",
      "     scheme       0.52      0.72      0.61        32\n",
      "  smalltalk       0.61      0.70      0.65        33\n",
      "        tcl       0.81      0.92      0.86       102\n",
      "\n",
      "avg / total       0.75      0.73      0.73      2764\n",
      "\n"
     ]
    }
   ],
   "source": [
    "print(classification_report)"
   ]
  },
  {
   "cell_type": "markdown",
   "metadata": {},
   "source": [
    "#It still does pretty poorly on a few languages like prolog, php, parigp, matlab, e, clojure.  \n",
    "The next step will be to look at those languages and try to exctract some features that will   \n",
    "help to classify them based on punctuation, whitespace, or special characters or words."
   ]
  },
  {
   "cell_type": "code",
   "execution_count": null,
   "metadata": {
    "collapsed": true
   },
   "outputs": [],
   "source": []
  }
 ],
 "metadata": {
  "kernelspec": {
   "display_name": "Python 3",
   "language": "python",
   "name": "python3"
  },
  "language_info": {
   "codemirror_mode": {
    "name": "ipython",
    "version": 3
   },
   "file_extension": ".py",
   "mimetype": "text/x-python",
   "name": "python",
   "nbconvert_exporter": "python",
   "pygments_lexer": "ipython3",
   "version": "3.4.3"
  }
 },
 "nbformat": 4,
 "nbformat_minor": 0
}
